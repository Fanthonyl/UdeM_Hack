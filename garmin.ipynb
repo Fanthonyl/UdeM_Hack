{
 "cells": [
  {
   "cell_type": "code",
   "execution_count": 4,
   "metadata": {},
   "outputs": [],
   "source": [
    "from garminconnect import Garmin\n",
    "\n",
    "def import_garmin_data(garmin_id, garmin_password):\n",
    "    try:\n",
    "        client = Garmin(garmin_id, garmin_password)\n",
    "        client.login()\n",
    "        \n",
    "        # Get latest activities\n",
    "        activities = client.get_activities(0, 5)  # Fetch last 5 activities\n",
    "        # Convert activities to a list of dictionaries\n",
    "        filtered_activities = [\n",
    "            {\n",
    "                \"id\": activity[\"activityId\"],\n",
    "                \"activity_name\": activity[\"activityName\"],\n",
    "                \"start_time\": activity[\"startTimeLocal\"],\n",
    "                \"calories\": activity[\"calories\"],\n",
    "                \"bmrCalories\": activity[\"bmrCalories\"],\n",
    "                \"steps\": activity[\"steps\"]\n",
    "            }\n",
    "            for activity in activities\n",
    "        ]\n",
    "        return filtered_activities\n",
    "    except Exception as e:\n",
    "        print(e)\n",
    "        return None"
   ]
  },
  {
   "cell_type": "code",
   "execution_count": 5,
   "metadata": {},
   "outputs": [
    {
     "name": "stdout",
     "output_type": "stream",
     "text": [
      "[{'id': 18478185102, 'activity_name': 'Marche à pied', 'start_time': '2025-03-08 18:44:18', 'calories': 1.0, 'bmrCalories': 0.0, 'steps': 24}, {'id': 18460759292, 'activity_name': 'Montreal Course à pied', 'start_time': '2025-03-06 17:08:05', 'calories': 918.0, 'bmrCalories': 110.0, 'steps': 12762}, {'id': 18449199193, 'activity_name': 'Course à pied sur tapis roulant', 'start_time': '2025-03-05 13:40:45', 'calories': 559.0, 'bmrCalories': 86.0, 'steps': 9814}, {'id': 18403908202, 'activity_name': 'Montreal Course à pied', 'start_time': '2025-02-28 16:00:56', 'calories': 1091.0, 'bmrCalories': 125.0, 'steps': 14440}, {'id': 18384466093, 'activity_name': 'Course à pied sur tapis roulant', 'start_time': '2025-02-26 12:02:21', 'calories': 517.0, 'bmrCalories': 78.0, 'steps': 8950}]\n"
     ]
    }
   ],
   "source": [
    "print(import_garmin_data(\"alexis.bord094@gmail.com\", \"eUMckMQM94!!\"))"
   ]
  }
 ],
 "metadata": {
  "kernelspec": {
   "display_name": ".venv",
   "language": "python",
   "name": "python3"
  },
  "language_info": {
   "codemirror_mode": {
    "name": "ipython",
    "version": 3
   },
   "file_extension": ".py",
   "mimetype": "text/x-python",
   "name": "python",
   "nbconvert_exporter": "python",
   "pygments_lexer": "ipython3",
   "version": "3.10.0"
  }
 },
 "nbformat": 4,
 "nbformat_minor": 2
}
